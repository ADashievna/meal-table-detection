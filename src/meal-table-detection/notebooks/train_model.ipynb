{
 "nbformat": 4,
 "nbformat_minor": 0,
 "metadata": {
  "colab": {
   "provenance": [],
   "gpuType": "A100"
  },
  "kernelspec": {
   "name": "python3",
   "display_name": "Python 3"
  },
  "language_info": {
   "name": "python"
  },
  "accelerator": "GPU"
 },
 "cells": [
  {
   "cell_type": "code",
   "source": [
    "!pip install ultralytics\n",
    "!pip install albumentations ultralytics"
   ],
   "metadata": {
    "colab": {
     "base_uri": "https://localhost:8080/"
    },
    "collapsed": true,
    "id": "4GSHjXiRlDhc",
    "outputId": "d3b54aaf-c42c-4a82-d355-4e90a3cc91c0"
   },
   "outputs": [],
   "execution_count": null
  },
  {
   "cell_type": "code",
   "metadata": {
    "id": "av3hzjh9bgR5",
    "colab": {
     "base_uri": "https://localhost:8080/"
    },
    "outputId": "cd8d9042-5dee-451f-aae4-fc4d13e82758",
    "ExecuteTime": {
     "end_time": "2025-07-01T07:13:27.957980Z",
     "start_time": "2025-07-01T07:13:22.764603Z"
    }
   },
   "source": [
    "from ultralytics import YOLO\n",
    "import cv2"
   ],
   "outputs": [],
   "execution_count": 1
  },
  {
   "cell_type": "code",
   "source": [
    "from google.colab import drive\n",
    "import os\n",
    "\n",
    "drive.mount('/content/drive')\n",
    "gdrive_root = '/content/drive/MyDrive/Colab_Notebooks'\n",
    "\n",
    "data_yaml_path = os.path.join(gdrive_root, 'meal-table-detection/data/data.yaml')"
   ],
   "metadata": {
    "colab": {
     "base_uri": "https://localhost:8080/"
    },
    "id": "m0iPXA2akryw",
    "outputId": "7468000c-9ae2-4581-d0f5-1e7fcab4d903"
   },
   "outputs": [],
   "execution_count": null
  },
  {
   "cell_type": "code",
   "source": [
    "import albumentations as alb\n",
    "model = YOLO(\"yolo11s.pt\")"
   ],
   "metadata": {
    "id": "zxcMHR0lkrqO",
    "collapsed": true,
    "colab": {
     "base_uri": "https://localhost:8080/"
    },
    "outputId": "08664268-f755-4b18-805a-c248303fbbb9"
   },
   "outputs": [],
   "execution_count": null
  },
  {
   "cell_type": "code",
   "source": [
    "results = model.train(\n",
    "    data=data_yaml_path,\n",
    "    epochs=250,\n",
    "    imgsz=960,\n",
    "    degrees=10,\n",
    "    fliplr=0.2,\n",
    "    flipud=0.2,\n",
    "    batch=32,\n",
    "    lr0=0.02\n",
    "    )"
   ],
   "metadata": {
    "colab": {
     "base_uri": "https://localhost:8080/"
    },
    "id": "ykh1D9sDxJ4W",
    "outputId": "b8bf2388-4ae6-4ff0-d927-b44e3e316f39",
    "collapsed": true
   },
   "outputs": [],
   "execution_count": null
  },
  {
   "cell_type": "code",
   "source": [
    "import pandas as pd\n",
    "import matplotlib.pyplot as plt\n",
    "\n",
    "df = pd.read_csv(\"/content/runs/detect/train/results.csv\")\n",
    "plt.figure(figsize=(12, 6))\n",
    "plt.plot(df['epoch'], df['metrics/precision(B)'], label='Precision')\n",
    "plt.plot(df['epoch'], df['metrics/recall(B)'], label='Recall')\n",
    "plt.plot(df['epoch'], df['metrics/mAP50(B)'], label='mAP@0.5')\n",
    "plt.plot(df['epoch'], df['metrics/mAP50-95(B)'], label='mAP@0.5:0.95')\n",
    "F1_score = 2* df['metrics/precision(B)']*df['metrics/recall(B)']/(df['metrics/precision(B)'] + df['metrics/recall(B)'])\n",
    "plt.plot(df['epoch'], F1_score, label='F1 Score')\n",
    "\n",
    "plt.xlabel(\"Epoch\")\n",
    "plt.ylabel(\"Value\")\n",
    "plt.title(\"Validation Metrics per Epoch\")\n",
    "plt.legend()\n",
    "plt.grid(True)\n",
    "plt.tight_layout()\n",
    "plt.show()"
   ],
   "metadata": {
    "colab": {
     "base_uri": "https://localhost:8080/",
     "height": 351
    },
    "collapsed": true,
    "id": "hF5jQWgJrz5m",
    "outputId": "6f06bc3a-e271-47d0-fff6-212e919577d4"
   },
   "outputs": [],
   "execution_count": null
  }
 ]
}
